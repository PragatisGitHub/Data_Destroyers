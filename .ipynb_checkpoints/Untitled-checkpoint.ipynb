{
 "cells": [
  {
   "cell_type": "code",
   "execution_count": null,
   "metadata": {},
   "outputs": [],
   "source": [
    "indoors_list=[\"aquarium\", \"art_gallery\",\"bakery\", \"bar\", \"beauty_salon\", \"book_stor\", \"bowling_alley\", \n",
    "        \"cafe\", \"casino\",\"clothing _store\", \"department _store\", \"electronics_store\", \"florist\",\n",
    "        \"furniture_store\", \"gym\", \"jewelry_store\", \"library,liquor_store\", \"lodging\", \"movie_rental\",\n",
    "        \"movie_theater\", \"museum\", \"night_club\", \"pet_store\", \"restaurant\", \"shoe_store\", \"shopping_mall\", \n",
    "        \"spa\", \"store\", \"supermarket\"]\n",
    "\n",
    "outdoos_list=[\"amusement_park\", \"campground\", \"park\", \"stadium\", \"zoo\"]"
   ]
  }
 ],
 "metadata": {
  "kernelspec": {
   "display_name": "Python 3",
   "language": "python",
   "name": "python3"
  }
 },
 "nbformat": 4,
 "nbformat_minor": 2
}
