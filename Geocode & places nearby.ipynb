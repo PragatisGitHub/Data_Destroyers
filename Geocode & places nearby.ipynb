{
 "cells": [
  {
   "cell_type": "code",
   "execution_count": null,
   "metadata": {},
   "outputs": [],
   "source": [
    "import requests\n",
    "import json\n",
    "\n",
    "from config import gkey\n",
    "gkey"
   ]
  },
  {
   "cell_type": "code",
   "execution_count": null,
   "metadata": {},
   "outputs": [],
   "source": [
    "# 1. What are the geocordinates (latitude and longitude) of Seattle,\n",
    "# Washington?\n",
    "target_city = input(\"Enter city & state in the format 'city,state: \")\n",
    "\n",
    "params = {\"address\": target_city, \"key\": gkey}\n",
    "\n",
    "# Build URL using the Google Maps API\n",
    "base_url = \"https://maps.googleapis.com/maps/api/geocode/json\""
   ]
  },
  {
   "cell_type": "code",
   "execution_count": null,
   "metadata": {},
   "outputs": [],
   "source": [
    "print(\"\\r\\nDrill #1\")\n",
    "\n",
    "# Run request\n",
    "response = requests.get(base_url, params=params)\n",
    "print(response.url)"
   ]
  },
  {
   "cell_type": "code",
   "execution_count": null,
   "metadata": {},
   "outputs": [],
   "source": [
    "# Conver to JSON\n",
    "city_geo = response.json()\n",
    "city_geo\n",
    "# Extract Lat/Lng\n",
    "lat = city_geo[\"results\"][0][\"geometry\"][\"location\"][\"lat\"]\n",
    "lng = city_geo[\"results\"][0][\"geometry\"][\"location\"][\"lng\"]\n",
    "\n",
    "# Print results\n",
    "print(\"%s: %s, %s\" % (target_city, lat, lng))"
   ]
  },
  {
   "cell_type": "code",
   "execution_count": null,
   "metadata": {},
   "outputs": [],
   "source": [
    "# 3. Find the names and addresses of a bike store in Seattle, Washington.\n",
    "#    Hint: See https://developers.google.com/places/web-service/supported_types\n",
    "target_type = \"bowling_alley\"\n",
    "city_coords = \"40.4316955, -74.4049778\"\n",
    "radius = 10000\n",
    "\n",
    "# rewrite params dict\n",
    "\n",
    "params = {\n",
    "    \"location\": city_coords,\n",
    "    \"types\": target_type,\n",
    "    \"radius\": radius,\n",
    "    \"key\": gkey\n",
    "}\n",
    "\n",
    "# Build URL using the Google Maps API\n",
    "base_url = \"https://maps.googleapis.com/maps/api/place/nearbysearch/json\""
   ]
  },
  {
   "cell_type": "code",
   "execution_count": null,
   "metadata": {},
   "outputs": [],
   "source": [
    "print(\"\\r\\nDrill #3\")\n",
    "\n",
    "# Run request\n",
    "response = requests.get(base_url, params)\n",
    "print(response.url)\n",
    "city_placestogo = response.json()\n",
    "\n",
    "# Print the json (pretty printed)\n",
    "#print(json.dumps(city_placestogo, indent=4, sort_keys=True))\n",
    "\n",
    "# Print the name and address of the first bike shop to appear\n",
    "print(city_placestogo[\"results\"][0][\"name\"])\n",
    "print(city_placestogo[\"results\"][0][\"vicinity\"])"
   ]
  },
  {
   "cell_type": "code",
   "execution_count": null,
   "metadata": {},
   "outputs": [],
   "source": []
  }
 ],
 "metadata": {
  "kernelspec": {
   "display_name": "Python 3",
   "language": "python",
   "name": "python3"
  },
  "language_info": {
   "codemirror_mode": {
    "name": "ipython",
    "version": 3
   },
   "file_extension": ".py",
   "mimetype": "text/x-python",
   "name": "python",
   "nbconvert_exporter": "python",
   "pygments_lexer": "ipython3",
   "version": "3.6.0"
  }
 },
 "nbformat": 4,
 "nbformat_minor": 2
}
