{
 "cells": [
  {
   "cell_type": "code",
   "execution_count": 8,
   "metadata": {},
   "outputs": [],
   "source": [
    "import requests\n",
    "import json\n",
    "import openweathermapy.core as owm\n",
    "from config import api_key\n",
    "import pandas as pd\n",
    "from pprint import pprint\n",
    "\n",
    "# from config import gkey\n",
    "# gkey\n"
   ]
  },
  {
   "cell_type": "code",
   "execution_count": 4,
   "metadata": {},
   "outputs": [
    {
     "data": {
      "text/html": [
       "<div>\n",
       "<style scoped>\n",
       "    .dataframe tbody tr th:only-of-type {\n",
       "        vertical-align: middle;\n",
       "    }\n",
       "\n",
       "    .dataframe tbody tr th {\n",
       "        vertical-align: top;\n",
       "    }\n",
       "\n",
       "    .dataframe thead th {\n",
       "        text-align: right;\n",
       "    }\n",
       "</style>\n",
       "<table border=\"1\" class=\"dataframe\">\n",
       "  <thead>\n",
       "    <tr style=\"text-align: right;\">\n",
       "      <th></th>\n",
       "      <th>All</th>\n",
       "      <th>Indoor</th>\n",
       "      <th>Outdoor</th>\n",
       "    </tr>\n",
       "  </thead>\n",
       "  <tbody>\n",
       "    <tr>\n",
       "      <th>0</th>\n",
       "      <td>accounting</td>\n",
       "      <td>aquarium</td>\n",
       "      <td>amusement_park</td>\n",
       "    </tr>\n",
       "    <tr>\n",
       "      <th>1</th>\n",
       "      <td>airport</td>\n",
       "      <td>art_gallery</td>\n",
       "      <td>campground</td>\n",
       "    </tr>\n",
       "    <tr>\n",
       "      <th>2</th>\n",
       "      <td>amusement_park</td>\n",
       "      <td>bakery</td>\n",
       "      <td>park</td>\n",
       "    </tr>\n",
       "    <tr>\n",
       "      <th>3</th>\n",
       "      <td>aquarium</td>\n",
       "      <td>bar</td>\n",
       "      <td>stadium</td>\n",
       "    </tr>\n",
       "    <tr>\n",
       "      <th>4</th>\n",
       "      <td>art_gallery</td>\n",
       "      <td>beauty_salon</td>\n",
       "      <td>zoo</td>\n",
       "    </tr>\n",
       "  </tbody>\n",
       "</table>\n",
       "</div>"
      ],
      "text/plain": [
       "              All        Indoor         Outdoor\n",
       "0      accounting      aquarium  amusement_park\n",
       "1         airport   art_gallery      campground\n",
       "2  amusement_park        bakery            park\n",
       "3        aquarium           bar         stadium\n",
       "4     art_gallery  beauty_salon             zoo"
      ]
     },
     "execution_count": 4,
     "metadata": {},
     "output_type": "execute_result"
    }
   ],
   "source": [
    "Indoor_Outdoor_Weather = \"Resources/Indoor_Outdoor_Weather - API Target Names.csv\"\n",
    "activities_df = pd.read_csv(Indoor_Outdoor_Weather, encoding=\"ISO-8859-1\")\n",
    "activities_df.head()\n"
   ]
  },
  {
   "cell_type": "code",
   "execution_count": 10,
   "metadata": {},
   "outputs": [
    {
     "name": "stdout",
     "output_type": "stream",
     "text": [
      "Current weather object for Newark: {'coord': {'lon': -74.17, 'lat': 40.74}, 'weather': [{'id': 801, 'main': 'Clouds', 'description': 'few clouds', 'icon': '02d'}], 'base': 'stations', 'main': {'temp': 28.45, 'pressure': 1018, 'humidity': 37, 'temp_min': 27, 'temp_max': 30}, 'visibility': 16093, 'wind': {'speed': 2.1}, 'clouds': {'all': 20}, 'dt': 1530366960, 'sys': {'type': 1, 'id': 1975, 'message': 0.0038, 'country': 'US', 'sunrise': 1530350939, 'sunset': 1530405111}, 'id': 5101798, 'name': 'Newark', 'cod': 200}.\n",
      "('Newark',\n",
      " [{'description': 'few clouds', 'icon': '02d', 'id': 801, 'main': 'Clouds'}],\n",
      " {'humidity': 37,\n",
      "  'pressure': 1018,\n",
      "  'temp': 28.45,\n",
      "  'temp_max': 30,\n",
      "  'temp_min': 27},\n",
      " {'all': 20})\n"
     ]
    }
   ],
   "source": [
    "#settings for wrapper\n",
    "settings = {\"units\": \"metric\", \"appid\": api_key}\n",
    "\n",
    "\n",
    "#Get current weather\n",
    "current_weather_newark = owm.get_current(\"Newark\", **settings)\n",
    "print(f\"Current weather object for Newark: {current_weather_newark}.\")\n",
    "\n",
    "summary = [\"name\", 'weather', \"main\",'clouds']\n",
    "data = current_weather_newark(*summary)\n",
    "pprint(data)\n"
   ]
  },
  {
   "cell_type": "code",
   "execution_count": null,
   "metadata": {},
   "outputs": [],
   "source": []
  }
 ],
 "metadata": {
  "kernelspec": {
   "display_name": "Python 3",
   "language": "python",
   "name": "python3"
  },
  "language_info": {
   "codemirror_mode": {
    "name": "ipython",
    "version": 3
   },
   "file_extension": ".py",
   "mimetype": "text/x-python",
   "name": "python",
   "nbconvert_exporter": "python",
   "pygments_lexer": "ipython3",
   "version": "3.6.4"
  }
 },
 "nbformat": 4,
 "nbformat_minor": 2
}
