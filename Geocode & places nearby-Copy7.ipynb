{
 "cells": [
  {
   "cell_type": "code",
   "execution_count": 3,
   "metadata": {},
   "outputs": [],
   "source": [
    "import requests\n",
    "import json\n",
    "import time\n",
    "\n",
    "import pandas as pd\n",
    "from datetime import timedelta\n",
    "from datetime import datetime\n",
    "from config import gkey"
   ]
  },
  {
   "cell_type": "code",
   "execution_count": 4,
   "metadata": {},
   "outputs": [
    {
     "name": "stdout",
     "output_type": "stream",
     "text": [
      "Enter city & state in the format 'city,state: Sayreville,NJ\n"
     ]
    }
   ],
   "source": [
    "#Input the target city and state\n",
    "target_city = input(\"Enter city & state in the format 'city,state: \")"
   ]
  },
  {
   "cell_type": "code",
   "execution_count": 5,
   "metadata": {},
   "outputs": [],
   "source": [
    "#Google Maps API\n",
    "base_url = \"https://maps.googleapis.com/maps/api/geocode/json\""
   ]
  },
  {
   "cell_type": "code",
   "execution_count": 6,
   "metadata": {},
   "outputs": [],
   "source": [
    "#Creating the params dict with address and key\n",
    "params = {\"address\": target_city, \"key\": gkey}"
   ]
  },
  {
   "cell_type": "code",
   "execution_count": 7,
   "metadata": {},
   "outputs": [
    {
     "name": "stdout",
     "output_type": "stream",
     "text": [
      "Sayreville,NJ: 40.45940210000001, -74.360846\n"
     ]
    }
   ],
   "source": [
    "# Run request (Build URL using the base_url & params)\n",
    "response = requests.get(base_url, params=params)\n",
    "#print(response.url)\n",
    "\n",
    "# Convert the response to JSON\n",
    "city_geo = response.json()\n",
    "\n",
    "# Extract Lat/Lng\n",
    "lat = city_geo[\"results\"][0][\"geometry\"][\"location\"][\"lat\"]\n",
    "lng = city_geo[\"results\"][0][\"geometry\"][\"location\"][\"lng\"]\n",
    "\n",
    "# Print results\n",
    "print(\"%s: %s, %s\" % (target_city, lat, lng))\n",
    "\n",
    "#Converting the lat & lng to string\n",
    "lat = str(lat)\n",
    "lng = str(lng)"
   ]
  },
  {
   "cell_type": "code",
   "execution_count": 8,
   "metadata": {},
   "outputs": [
    {
     "name": "stdout",
     "output_type": "stream",
     "text": [
      "Enter Outdoor or Indoor: Indoor\n"
     ]
    }
   ],
   "source": [
    "#https://developers.google.com/places/web-service/supported_types\n",
    "\n",
    "#Segregated the places types into indoor and outdoor activities \n",
    "Acty_In = pd.read_excel(\"Resources/Indoor.xlsx\")\n",
    "Acty_Out = pd.read_excel(\"Resources/Outdoor.xlsx\")\n",
    "\n",
    "#Converting the dataframe into list\n",
    "Acty_Outlist = Acty_Out[\"Outdoor\"].tolist()\n",
    "Acty_Inlist = Acty_In[\"Indoor\"].tolist()\n",
    "\n",
    "#Find the names and addresses of nearbyplaces in given city,state entered by the user.\n",
    "#Hint: See https://developers.google.com/places/web-service/supported_types\n",
    "Acty = input(\"Enter Outdoor or Indoor: \")\n",
    "\n",
    "if (Acty == \"Outdoor\"):\n",
    "    Acty = Acty_Outlist\n",
    "elif (Acty == \"Indoor\"):\n",
    "    Acty = Acty_Inlist"
   ]
  },
  {
   "cell_type": "code",
   "execution_count": 9,
   "metadata": {},
   "outputs": [],
   "source": [
    "#Google maps nearby places search API\n",
    "base_url = \"https://maps.googleapis.com/maps/api/place/nearbysearch/json?\"\n",
    "\n",
    "places_url = \"https://maps.googleapis.com/maps/api/place/findplacefromtext/json?\""
   ]
  },
  {
   "cell_type": "code",
   "execution_count": null,
   "metadata": {},
   "outputs": [],
   "source": [
    "place_names = []\n",
    "addresses = []\n",
    "for i in range(len(Acty)):\n",
    "    \n",
    "    target_type = Acty[i]\n",
    "    #radius = 40000\n",
    "\n",
    "# Build URL using the Google Maps API and other fields\n",
    "    #target_url = base_url+\"key=\"+gkey+\"&location=\"+lat+\",\"+lng+\"&radius=\"+str(radius)+\"&type=\"+target_type#+\"&opennow\"\n",
    "    target_url = base_url+\"key=\"+gkey+\"&location=\"+lat+\",\"+lng+\"&rankby=distance\"+\"&type=\"+target_type#+\"&opennow\"\n",
    "    #print(target_url)\n",
    "# Run request\n",
    "    response = requests.get(target_url)\n",
    "    city_placestogo = response.json()\n",
    "    \n",
    "    if city_placestogo[\"status\"] == \"ZERO_RESULTS\":\n",
    "        print(f'No {Acty[i]} near your place of choice')\n",
    "        print(\"\\n\")\n",
    "    else:\n",
    "        print(f'Bingo!!! We have found good {Acty[i]}s near your place of choice!!!')\n",
    "        print(\"\\n\")\n",
    "        for item in city_placestogo[\"results\"]:\n",
    "            myplace = item[\"name\"]\n",
    "            myplace = myplace.replace(\" \", \"%20\")\n",
    "            target_url = places_url+\"key=\"+gkey+\"&input=\"+myplace+\"&inputtype=textquery\"+\"&fields=formatted_address,name,rating,opening_hours\"\n",
    "            #print(target_url)\n",
    "            response = requests.get(target_url)\n",
    "            data = response.json()\n",
    "            #print(data)\n",
    "            try:\n",
    "                print(f'{data[\"candidates\"][0][\"name\"]}')\n",
    "                print(f'{data[\"candidates\"][0][\"formatted_address\"]}')\n",
    "                print(f'The rating of {data[\"candidates\"][0][\"name\"]} is {data[\"candidates\"][0][\"rating\"]}')\n",
    "                print(f'Is it open? {data[\"candidates\"][0][\"opening_hours\"][\"open_now\"]}')\n",
    "            except:\n",
    "                print(f'{item[\"name\"]}')\n",
    "                print(\"No or incomplete information found\")\n",
    "        #print(\"\\n\")    "
   ]
  },
  {
   "cell_type": "code",
   "execution_count": null,
   "metadata": {},
   "outputs": [],
   "source": [
    "places_url = \"https://maps.googleapis.com/maps/api/place/findplacefromtext/json?\"\n",
    "for place in place_names: \n",
    "    myplace = place\n",
    "    myplace = myplace.replace(\" \", \"%20\")\n",
    "    target_url = places_url+\"key=\"+gkey+\"&input=\"+myplace+\"&inputtype=textquery\"+\"&fields=formatted_address,name,rating,opening_hours\"\n",
    "    #print(target_url)\n",
    "    response = requests.get(target_url)\n",
    "    data = response.json()\n",
    "    #print(data)\n",
    "    try:\n",
    "        print(f'{data[\"candidates\"][0][\"name\"]}')\n",
    "        print(f'Address: {data[\"candidates\"][0][\"formatted_address\"]}')\n",
    "        print(f'Rating: {data[\"candidates\"][0][\"name\"]} is {data[\"candidates\"][0][\"rating\"]}')\n",
    "        print(f'Is it open? {data[\"candidates\"][0][\"opening_hours\"][\"open_now\"]}')\n",
    "    except:\n",
    "        print(f'{place}')\n",
    "        print(\"No or incomplete information found\")\n",
    "    print(\"\\n\")    "
   ]
  },
  {
   "cell_type": "code",
   "execution_count": null,
   "metadata": {},
   "outputs": [],
   "source": []
  }
 ],
 "metadata": {
  "kernelspec": {
   "display_name": "Python 3",
   "language": "python",
   "name": "python3"
  },
  "language_info": {
   "codemirror_mode": {
    "name": "ipython",
    "version": 3
   },
   "file_extension": ".py",
   "mimetype": "text/x-python",
   "name": "python",
   "nbconvert_exporter": "python",
   "pygments_lexer": "ipython3",
   "version": "3.6.0"
  }
 },
 "nbformat": 4,
 "nbformat_minor": 2
}
